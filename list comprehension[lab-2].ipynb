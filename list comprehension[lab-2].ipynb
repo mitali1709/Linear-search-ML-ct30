{
  "nbformat": 4,
  "nbformat_minor": 0,
  "metadata": {
    "colab": {
      "name": " list comprehension_ml_lab_2(ct30).ipynb",
      "provenance": []
    },
    "kernelspec": {
      "name": "python3",
      "display_name": "Python 3"
    },
    "language_info": {
      "name": "python"
    }
  },
  "cells": [
    {
      "cell_type": "code",
      "execution_count": 14,
      "metadata": {
        "id": "Ow1j4XeKOp6m"
      },
      "outputs": [],
      "source": [
        "#get the list and the index of the list\n",
        "\n"
      ]
    },
    {
      "cell_type": "code",
      "source": [
        "#find the common number in the two list\n",
        "l1=[1,7,5,3,6,4]\n",
        "l2=[2,34,17,5,66]\n",
        "\n",
        "[i for i in l1 for j in l2 if i==j]\n",
        "\n"
      ],
      "metadata": {
        "colab": {
          "base_uri": "https://localhost:8080/"
        },
        "id": "c3ozvNpNO7_r",
        "outputId": "a6114efd-63a0-476a-ccc4-49ee9316f946"
      },
      "execution_count": 15,
      "outputs": [
        {
          "output_type": "execute_result",
          "data": {
            "text/plain": [
              "[5]"
            ]
          },
          "metadata": {},
          "execution_count": 15
        }
      ]
    },
    {
      "cell_type": "code",
      "source": [
        "s= \"my name is Mitali raut\"\n",
        "#count the number of letter \n",
        "#1\n",
        "l1=s.split()\n",
        "[ len(i) for i in l1]\n",
        "\n",
        "\n",
        "\n",
        "\n"
      ],
      "metadata": {
        "colab": {
          "base_uri": "https://localhost:8080/"
        },
        "id": "1rt94jskPrS1",
        "outputId": "dd986082-a6ce-4dfc-e64a-24d3c7a7575c"
      },
      "execution_count": 16,
      "outputs": [
        {
          "output_type": "execute_result",
          "data": {
            "text/plain": [
              "[2, 4, 2, 6, 4]"
            ]
          },
          "metadata": {},
          "execution_count": 16
        }
      ]
    },
    {
      "cell_type": "code",
      "source": [
        "#print the number of words\n",
        "s= \"my name is Mitali raut\"\n",
        "[ e for e in s]\n"
      ],
      "metadata": {
        "colab": {
          "base_uri": "https://localhost:8080/"
        },
        "id": "WU2LZ43uY33U",
        "outputId": "fff5e252-e901-4d01-e4ce-5436ad3aa785"
      },
      "execution_count": 17,
      "outputs": [
        {
          "output_type": "execute_result",
          "data": {
            "text/plain": [
              "['m',\n",
              " 'y',\n",
              " ' ',\n",
              " 'n',\n",
              " 'a',\n",
              " 'm',\n",
              " 'e',\n",
              " ' ',\n",
              " 'i',\n",
              " 's',\n",
              " ' ',\n",
              " 'M',\n",
              " 'i',\n",
              " 't',\n",
              " 'a',\n",
              " 'l',\n",
              " 'i',\n",
              " ' ',\n",
              " 'r',\n",
              " 'a',\n",
              " 'u',\n",
              " 't']"
            ]
          },
          "metadata": {},
          "execution_count": 17
        }
      ]
    },
    {
      "cell_type": "code",
      "source": [
        "#count the number of words which are not alphanumeric \n",
        "\n",
        "s=\" this is csit department 24 23\"\n",
        "i=s.split()\n",
        "[ j for j in i if not j.isalpha()]\n",
        "#print the letter char greater than 4\n",
        "[j for j in i if len(j)>=4 and j.isalpha()]"
      ],
      "metadata": {
        "colab": {
          "base_uri": "https://localhost:8080/"
        },
        "id": "vW148wrLRTSa",
        "outputId": "494014f4-522a-4171-d8bf-bf6054346034"
      },
      "execution_count": 18,
      "outputs": [
        {
          "output_type": "execute_result",
          "data": {
            "text/plain": [
              "['this', 'csit', 'department']"
            ]
          },
          "metadata": {},
          "execution_count": 18
        }
      ]
    },
    {
      "cell_type": "code",
      "source": [
        "#use the nested list comprehension to find all the number in 1 to 100 that are divisivle by 2 to9\n",
        "[ i  for j in range(2,9) for i in range(1,100)   if i%j==0]\n"
      ],
      "metadata": {
        "colab": {
          "base_uri": "https://localhost:8080/"
        },
        "id": "mbiC03ibUAz4",
        "outputId": "ae60eb0f-4cff-4d24-a4d2-f599501a62bf"
      },
      "execution_count": 19,
      "outputs": [
        {
          "output_type": "execute_result",
          "data": {
            "text/plain": [
              "[2,\n",
              " 4,\n",
              " 6,\n",
              " 8,\n",
              " 10,\n",
              " 12,\n",
              " 14,\n",
              " 16,\n",
              " 18,\n",
              " 20,\n",
              " 22,\n",
              " 24,\n",
              " 26,\n",
              " 28,\n",
              " 30,\n",
              " 32,\n",
              " 34,\n",
              " 36,\n",
              " 38,\n",
              " 40,\n",
              " 42,\n",
              " 44,\n",
              " 46,\n",
              " 48,\n",
              " 50,\n",
              " 52,\n",
              " 54,\n",
              " 56,\n",
              " 58,\n",
              " 60,\n",
              " 62,\n",
              " 64,\n",
              " 66,\n",
              " 68,\n",
              " 70,\n",
              " 72,\n",
              " 74,\n",
              " 76,\n",
              " 78,\n",
              " 80,\n",
              " 82,\n",
              " 84,\n",
              " 86,\n",
              " 88,\n",
              " 90,\n",
              " 92,\n",
              " 94,\n",
              " 96,\n",
              " 98,\n",
              " 3,\n",
              " 6,\n",
              " 9,\n",
              " 12,\n",
              " 15,\n",
              " 18,\n",
              " 21,\n",
              " 24,\n",
              " 27,\n",
              " 30,\n",
              " 33,\n",
              " 36,\n",
              " 39,\n",
              " 42,\n",
              " 45,\n",
              " 48,\n",
              " 51,\n",
              " 54,\n",
              " 57,\n",
              " 60,\n",
              " 63,\n",
              " 66,\n",
              " 69,\n",
              " 72,\n",
              " 75,\n",
              " 78,\n",
              " 81,\n",
              " 84,\n",
              " 87,\n",
              " 90,\n",
              " 93,\n",
              " 96,\n",
              " 99,\n",
              " 4,\n",
              " 8,\n",
              " 12,\n",
              " 16,\n",
              " 20,\n",
              " 24,\n",
              " 28,\n",
              " 32,\n",
              " 36,\n",
              " 40,\n",
              " 44,\n",
              " 48,\n",
              " 52,\n",
              " 56,\n",
              " 60,\n",
              " 64,\n",
              " 68,\n",
              " 72,\n",
              " 76,\n",
              " 80,\n",
              " 84,\n",
              " 88,\n",
              " 92,\n",
              " 96,\n",
              " 5,\n",
              " 10,\n",
              " 15,\n",
              " 20,\n",
              " 25,\n",
              " 30,\n",
              " 35,\n",
              " 40,\n",
              " 45,\n",
              " 50,\n",
              " 55,\n",
              " 60,\n",
              " 65,\n",
              " 70,\n",
              " 75,\n",
              " 80,\n",
              " 85,\n",
              " 90,\n",
              " 95,\n",
              " 6,\n",
              " 12,\n",
              " 18,\n",
              " 24,\n",
              " 30,\n",
              " 36,\n",
              " 42,\n",
              " 48,\n",
              " 54,\n",
              " 60,\n",
              " 66,\n",
              " 72,\n",
              " 78,\n",
              " 84,\n",
              " 90,\n",
              " 96,\n",
              " 7,\n",
              " 14,\n",
              " 21,\n",
              " 28,\n",
              " 35,\n",
              " 42,\n",
              " 49,\n",
              " 56,\n",
              " 63,\n",
              " 70,\n",
              " 77,\n",
              " 84,\n",
              " 91,\n",
              " 98,\n",
              " 8,\n",
              " 16,\n",
              " 24,\n",
              " 32,\n",
              " 40,\n",
              " 48,\n",
              " 56,\n",
              " 64,\n",
              " 72,\n",
              " 80,\n",
              " 88,\n",
              " 96]"
            ]
          },
          "metadata": {},
          "execution_count": 19
        }
      ]
    },
    {
      "cell_type": "code",
      "source": [
        ""
      ],
      "metadata": {
        "id": "Hbe4csWqTKXP"
      },
      "execution_count": 19,
      "outputs": []
    }
  ]
}
